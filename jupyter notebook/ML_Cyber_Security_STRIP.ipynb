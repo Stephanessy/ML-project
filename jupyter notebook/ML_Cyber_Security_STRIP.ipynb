{
  "nbformat": 4,
  "nbformat_minor": 0,
  "metadata": {
    "colab": {
      "name": "ML_Cyber_Security_STRIP.ipynb",
      "provenance": [],
      "collapsed_sections": []
    },
    "kernelspec": {
      "name": "python3",
      "display_name": "Python 3"
    },
    "accelerator": "GPU",
    "widgets": {
      "application/vnd.jupyter.widget-state+json": {
        "3be734ff370f4fdf87bdab3d3f971c55": {
          "model_module": "@jupyter-widgets/controls",
          "model_name": "HBoxModel",
          "state": {
            "_view_name": "HBoxView",
            "_dom_classes": [],
            "_model_name": "HBoxModel",
            "_view_module": "@jupyter-widgets/controls",
            "_model_module_version": "1.5.0",
            "_view_count": null,
            "_view_module_version": "1.5.0",
            "box_style": "",
            "layout": "IPY_MODEL_1bda7bafec924d1e81537abedbd3dbc8",
            "_model_module": "@jupyter-widgets/controls",
            "children": [
              "IPY_MODEL_1ac92fdda2f7462cb2d1a0d83bd411f9",
              "IPY_MODEL_c7f67fa06dd94b7ca30bea4e7212a149"
            ]
          }
        },
        "1bda7bafec924d1e81537abedbd3dbc8": {
          "model_module": "@jupyter-widgets/base",
          "model_name": "LayoutModel",
          "state": {
            "_view_name": "LayoutView",
            "grid_template_rows": null,
            "right": null,
            "justify_content": null,
            "_view_module": "@jupyter-widgets/base",
            "overflow": null,
            "_model_module_version": "1.2.0",
            "_view_count": null,
            "flex_flow": null,
            "width": null,
            "min_width": null,
            "border": null,
            "align_items": null,
            "bottom": null,
            "_model_module": "@jupyter-widgets/base",
            "top": null,
            "grid_column": null,
            "overflow_y": null,
            "overflow_x": null,
            "grid_auto_flow": null,
            "grid_area": null,
            "grid_template_columns": null,
            "flex": null,
            "_model_name": "LayoutModel",
            "justify_items": null,
            "grid_row": null,
            "max_height": null,
            "align_content": null,
            "visibility": null,
            "align_self": null,
            "height": null,
            "min_height": null,
            "padding": null,
            "grid_auto_rows": null,
            "grid_gap": null,
            "max_width": null,
            "order": null,
            "_view_module_version": "1.2.0",
            "grid_template_areas": null,
            "object_position": null,
            "object_fit": null,
            "grid_auto_columns": null,
            "margin": null,
            "display": null,
            "left": null
          }
        },
        "1ac92fdda2f7462cb2d1a0d83bd411f9": {
          "model_module": "@jupyter-widgets/controls",
          "model_name": "FloatProgressModel",
          "state": {
            "_view_name": "ProgressView",
            "style": "IPY_MODEL_9585512daf804a9ebfbbce06db48160e",
            "_dom_classes": [],
            "description": "100%",
            "_model_name": "FloatProgressModel",
            "bar_style": "success",
            "max": 11547,
            "_view_module": "@jupyter-widgets/controls",
            "_model_module_version": "1.5.0",
            "value": 11547,
            "_view_count": null,
            "_view_module_version": "1.5.0",
            "orientation": "horizontal",
            "min": 0,
            "description_tooltip": null,
            "_model_module": "@jupyter-widgets/controls",
            "layout": "IPY_MODEL_9b07aac7ba8b4309a3a1f4a67bba006b"
          }
        },
        "c7f67fa06dd94b7ca30bea4e7212a149": {
          "model_module": "@jupyter-widgets/controls",
          "model_name": "HTMLModel",
          "state": {
            "_view_name": "HTMLView",
            "style": "IPY_MODEL_1e2e67087a5546bdad0e103ec7f5a8fc",
            "_dom_classes": [],
            "description": "",
            "_model_name": "HTMLModel",
            "placeholder": "​",
            "_view_module": "@jupyter-widgets/controls",
            "_model_module_version": "1.5.0",
            "value": " 11547/11547 [14:01&lt;00:00, 13.71it/s]",
            "_view_count": null,
            "_view_module_version": "1.5.0",
            "description_tooltip": null,
            "_model_module": "@jupyter-widgets/controls",
            "layout": "IPY_MODEL_e53941e0374d49939be64eb176e1d735"
          }
        },
        "9585512daf804a9ebfbbce06db48160e": {
          "model_module": "@jupyter-widgets/controls",
          "model_name": "ProgressStyleModel",
          "state": {
            "_view_name": "StyleView",
            "_model_name": "ProgressStyleModel",
            "description_width": "initial",
            "_view_module": "@jupyter-widgets/base",
            "_model_module_version": "1.5.0",
            "_view_count": null,
            "_view_module_version": "1.2.0",
            "bar_color": null,
            "_model_module": "@jupyter-widgets/controls"
          }
        },
        "9b07aac7ba8b4309a3a1f4a67bba006b": {
          "model_module": "@jupyter-widgets/base",
          "model_name": "LayoutModel",
          "state": {
            "_view_name": "LayoutView",
            "grid_template_rows": null,
            "right": null,
            "justify_content": null,
            "_view_module": "@jupyter-widgets/base",
            "overflow": null,
            "_model_module_version": "1.2.0",
            "_view_count": null,
            "flex_flow": null,
            "width": null,
            "min_width": null,
            "border": null,
            "align_items": null,
            "bottom": null,
            "_model_module": "@jupyter-widgets/base",
            "top": null,
            "grid_column": null,
            "overflow_y": null,
            "overflow_x": null,
            "grid_auto_flow": null,
            "grid_area": null,
            "grid_template_columns": null,
            "flex": null,
            "_model_name": "LayoutModel",
            "justify_items": null,
            "grid_row": null,
            "max_height": null,
            "align_content": null,
            "visibility": null,
            "align_self": null,
            "height": null,
            "min_height": null,
            "padding": null,
            "grid_auto_rows": null,
            "grid_gap": null,
            "max_width": null,
            "order": null,
            "_view_module_version": "1.2.0",
            "grid_template_areas": null,
            "object_position": null,
            "object_fit": null,
            "grid_auto_columns": null,
            "margin": null,
            "display": null,
            "left": null
          }
        },
        "1e2e67087a5546bdad0e103ec7f5a8fc": {
          "model_module": "@jupyter-widgets/controls",
          "model_name": "DescriptionStyleModel",
          "state": {
            "_view_name": "StyleView",
            "_model_name": "DescriptionStyleModel",
            "description_width": "",
            "_view_module": "@jupyter-widgets/base",
            "_model_module_version": "1.5.0",
            "_view_count": null,
            "_view_module_version": "1.2.0",
            "_model_module": "@jupyter-widgets/controls"
          }
        },
        "e53941e0374d49939be64eb176e1d735": {
          "model_module": "@jupyter-widgets/base",
          "model_name": "LayoutModel",
          "state": {
            "_view_name": "LayoutView",
            "grid_template_rows": null,
            "right": null,
            "justify_content": null,
            "_view_module": "@jupyter-widgets/base",
            "overflow": null,
            "_model_module_version": "1.2.0",
            "_view_count": null,
            "flex_flow": null,
            "width": null,
            "min_width": null,
            "border": null,
            "align_items": null,
            "bottom": null,
            "_model_module": "@jupyter-widgets/base",
            "top": null,
            "grid_column": null,
            "overflow_y": null,
            "overflow_x": null,
            "grid_auto_flow": null,
            "grid_area": null,
            "grid_template_columns": null,
            "flex": null,
            "_model_name": "LayoutModel",
            "justify_items": null,
            "grid_row": null,
            "max_height": null,
            "align_content": null,
            "visibility": null,
            "align_self": null,
            "height": null,
            "min_height": null,
            "padding": null,
            "grid_auto_rows": null,
            "grid_gap": null,
            "max_width": null,
            "order": null,
            "_view_module_version": "1.2.0",
            "grid_template_areas": null,
            "object_position": null,
            "object_fit": null,
            "grid_auto_columns": null,
            "margin": null,
            "display": null,
            "left": null
          }
        },
        "0708f33257544e5583efb69a901ed9f0": {
          "model_module": "@jupyter-widgets/controls",
          "model_name": "HBoxModel",
          "state": {
            "_view_name": "HBoxView",
            "_dom_classes": [],
            "_model_name": "HBoxModel",
            "_view_module": "@jupyter-widgets/controls",
            "_model_module_version": "1.5.0",
            "_view_count": null,
            "_view_module_version": "1.5.0",
            "box_style": "",
            "layout": "IPY_MODEL_e8c8a55e928347058ef4cb1e068c0a55",
            "_model_module": "@jupyter-widgets/controls",
            "children": [
              "IPY_MODEL_8f0a7ba95712469ab85ee1a54f3e4f1b",
              "IPY_MODEL_207f4270fc3148798a62becc8ed0c5c1"
            ]
          }
        },
        "e8c8a55e928347058ef4cb1e068c0a55": {
          "model_module": "@jupyter-widgets/base",
          "model_name": "LayoutModel",
          "state": {
            "_view_name": "LayoutView",
            "grid_template_rows": null,
            "right": null,
            "justify_content": null,
            "_view_module": "@jupyter-widgets/base",
            "overflow": null,
            "_model_module_version": "1.2.0",
            "_view_count": null,
            "flex_flow": null,
            "width": null,
            "min_width": null,
            "border": null,
            "align_items": null,
            "bottom": null,
            "_model_module": "@jupyter-widgets/base",
            "top": null,
            "grid_column": null,
            "overflow_y": null,
            "overflow_x": null,
            "grid_auto_flow": null,
            "grid_area": null,
            "grid_template_columns": null,
            "flex": null,
            "_model_name": "LayoutModel",
            "justify_items": null,
            "grid_row": null,
            "max_height": null,
            "align_content": null,
            "visibility": null,
            "align_self": null,
            "height": null,
            "min_height": null,
            "padding": null,
            "grid_auto_rows": null,
            "grid_gap": null,
            "max_width": null,
            "order": null,
            "_view_module_version": "1.2.0",
            "grid_template_areas": null,
            "object_position": null,
            "object_fit": null,
            "grid_auto_columns": null,
            "margin": null,
            "display": null,
            "left": null
          }
        },
        "8f0a7ba95712469ab85ee1a54f3e4f1b": {
          "model_module": "@jupyter-widgets/controls",
          "model_name": "FloatProgressModel",
          "state": {
            "_view_name": "ProgressView",
            "style": "IPY_MODEL_c6a9bea2fc4d40d59484b52dad97b858",
            "_dom_classes": [],
            "description": "100%",
            "_model_name": "FloatProgressModel",
            "bar_style": "success",
            "max": 12830,
            "_view_module": "@jupyter-widgets/controls",
            "_model_module_version": "1.5.0",
            "value": 12830,
            "_view_count": null,
            "_view_module_version": "1.5.0",
            "orientation": "horizontal",
            "min": 0,
            "description_tooltip": null,
            "_model_module": "@jupyter-widgets/controls",
            "layout": "IPY_MODEL_8d4800cc1a1f480b941f6069722b116d"
          }
        },
        "207f4270fc3148798a62becc8ed0c5c1": {
          "model_module": "@jupyter-widgets/controls",
          "model_name": "HTMLModel",
          "state": {
            "_view_name": "HTMLView",
            "style": "IPY_MODEL_25895ea637504d6393228e08a20d44e2",
            "_dom_classes": [],
            "description": "",
            "_model_name": "HTMLModel",
            "placeholder": "​",
            "_view_module": "@jupyter-widgets/controls",
            "_model_module_version": "1.5.0",
            "value": " 12830/12830 [14:18&lt;00:00, 14.94it/s]",
            "_view_count": null,
            "_view_module_version": "1.5.0",
            "description_tooltip": null,
            "_model_module": "@jupyter-widgets/controls",
            "layout": "IPY_MODEL_7f02a7a1a64b490c8e77c140962f7170"
          }
        },
        "c6a9bea2fc4d40d59484b52dad97b858": {
          "model_module": "@jupyter-widgets/controls",
          "model_name": "ProgressStyleModel",
          "state": {
            "_view_name": "StyleView",
            "_model_name": "ProgressStyleModel",
            "description_width": "initial",
            "_view_module": "@jupyter-widgets/base",
            "_model_module_version": "1.5.0",
            "_view_count": null,
            "_view_module_version": "1.2.0",
            "bar_color": null,
            "_model_module": "@jupyter-widgets/controls"
          }
        },
        "8d4800cc1a1f480b941f6069722b116d": {
          "model_module": "@jupyter-widgets/base",
          "model_name": "LayoutModel",
          "state": {
            "_view_name": "LayoutView",
            "grid_template_rows": null,
            "right": null,
            "justify_content": null,
            "_view_module": "@jupyter-widgets/base",
            "overflow": null,
            "_model_module_version": "1.2.0",
            "_view_count": null,
            "flex_flow": null,
            "width": null,
            "min_width": null,
            "border": null,
            "align_items": null,
            "bottom": null,
            "_model_module": "@jupyter-widgets/base",
            "top": null,
            "grid_column": null,
            "overflow_y": null,
            "overflow_x": null,
            "grid_auto_flow": null,
            "grid_area": null,
            "grid_template_columns": null,
            "flex": null,
            "_model_name": "LayoutModel",
            "justify_items": null,
            "grid_row": null,
            "max_height": null,
            "align_content": null,
            "visibility": null,
            "align_self": null,
            "height": null,
            "min_height": null,
            "padding": null,
            "grid_auto_rows": null,
            "grid_gap": null,
            "max_width": null,
            "order": null,
            "_view_module_version": "1.2.0",
            "grid_template_areas": null,
            "object_position": null,
            "object_fit": null,
            "grid_auto_columns": null,
            "margin": null,
            "display": null,
            "left": null
          }
        },
        "25895ea637504d6393228e08a20d44e2": {
          "model_module": "@jupyter-widgets/controls",
          "model_name": "DescriptionStyleModel",
          "state": {
            "_view_name": "StyleView",
            "_model_name": "DescriptionStyleModel",
            "description_width": "",
            "_view_module": "@jupyter-widgets/base",
            "_model_module_version": "1.5.0",
            "_view_count": null,
            "_view_module_version": "1.2.0",
            "_model_module": "@jupyter-widgets/controls"
          }
        },
        "7f02a7a1a64b490c8e77c140962f7170": {
          "model_module": "@jupyter-widgets/base",
          "model_name": "LayoutModel",
          "state": {
            "_view_name": "LayoutView",
            "grid_template_rows": null,
            "right": null,
            "justify_content": null,
            "_view_module": "@jupyter-widgets/base",
            "overflow": null,
            "_model_module_version": "1.2.0",
            "_view_count": null,
            "flex_flow": null,
            "width": null,
            "min_width": null,
            "border": null,
            "align_items": null,
            "bottom": null,
            "_model_module": "@jupyter-widgets/base",
            "top": null,
            "grid_column": null,
            "overflow_y": null,
            "overflow_x": null,
            "grid_auto_flow": null,
            "grid_area": null,
            "grid_template_columns": null,
            "flex": null,
            "_model_name": "LayoutModel",
            "justify_items": null,
            "grid_row": null,
            "max_height": null,
            "align_content": null,
            "visibility": null,
            "align_self": null,
            "height": null,
            "min_height": null,
            "padding": null,
            "grid_auto_rows": null,
            "grid_gap": null,
            "max_width": null,
            "order": null,
            "_view_module_version": "1.2.0",
            "grid_template_areas": null,
            "object_position": null,
            "object_fit": null,
            "grid_auto_columns": null,
            "margin": null,
            "display": null,
            "left": null
          }
        }
      }
    }
  },
  "cells": [
    {
      "cell_type": "markdown",
      "metadata": {
        "id": "YHN8rhJ0_i2Y"
      },
      "source": [
        "Author:\r\n",
        "\r\n",
        "1. Siyuan Shi, netID: ss13376\r\n",
        "2. Haotian Yi, netID: hy1651\r\n",
        "\r\n",
        "Date: 2020-12-21"
      ]
    },
    {
      "cell_type": "markdown",
      "metadata": {
        "id": "11ttSkpZ2rNm"
      },
      "source": [
        "Conduct on **Colab**, referring STRIP strategy.\r\n",
        "\r\n",
        "Currently we are using initial data from CSAW-HackML-2020.\r\n",
        "\r\n",
        "What user should provide:\r\n",
        "\r\n",
        "*Please also upload those from CSAW-HackML-2020 in case some variable missing issue* and modify code as below if you want to test with other model and data: \r\n",
        "\r\n",
        "**I**. To train a detection boundary(threshold): (in **Preprocessing** section)\r\n",
        "1. a clean validation set: modify validation set path at *clean_validation_data_filename*\r\n",
        "2. badnet model to test: modify bednet model path at *model_filename* and *model_weight* \r\n",
        "\r\n",
        "**II**. Runtime detection: \r\n",
        "\r\n",
        "uncomment *result = test(bd_model, x_user, x_valid, threshold)* at last block and comment current one(in **Test** section)  \r\n",
        "1. your input test set: uncomment and modify *x_user, y_user* part (in **Preprocessing** section)  \r\n",
        "2. badnet model to test: you have already load it in **I** part "
      ]
    },
    {
      "cell_type": "markdown",
      "metadata": {
        "id": "okxXLjmAKmk7"
      },
      "source": [
        "# Preprocessing"
      ]
    },
    {
      "cell_type": "code",
      "metadata": {
        "id": "OQMixFMPBRW4",
        "colab": {
          "base_uri": "https://localhost:8080/"
        },
        "outputId": "911a14e2-9d33-4f0f-ee85-e79995cb5f09"
      },
      "source": [
        "!unzip data.zip\r\n",
        "!unzip models.zip"
      ],
      "execution_count": 1,
      "outputs": [
        {
          "output_type": "stream",
          "text": [
            "Archive:  data.zip\n",
            "   creating: data/\n",
            "  inflating: data/clean_test_data.h5  \n",
            "  inflating: data/clean_validation_data.h5  \n",
            "  inflating: data/data.txt           \n",
            "  inflating: data/sunglasses_poisoned_data.h5  \n",
            "Archive:  models.zip\n",
            "   creating: models/\n",
            "  inflating: models/anonymous_bd_net.h5  \n",
            "  inflating: models/anonymous_bd_weights.h5  \n",
            "  inflating: models/multi_trigger_multi_target_bd_net.h5  \n",
            "  inflating: models/multi_trigger_multi_target_bd_weights.h5  \n",
            "  inflating: models/sunglasses_bd_net.h5  \n",
            "  inflating: models/sunglasses_bd_weights.h5  \n"
          ],
          "name": "stdout"
        }
      ]
    },
    {
      "cell_type": "code",
      "metadata": {
        "colab": {
          "base_uri": "https://localhost:8080/"
        },
        "id": "fQm2Txjsqbm5",
        "outputId": "f87905fc-e616-41db-c106-051bfe835061"
      },
      "source": [
        "# !python strip_eval.py ./data/clean_test_data.h5 ./data/sunglasses_poisoned_data.h5 ./models/sunglasses_bd_net.h5 quick"
      ],
      "execution_count": null,
      "outputs": [
        {
          "output_type": "stream",
          "text": [
            "2020-12-21 16:07:46.228949: I tensorflow/stream_executor/platform/default/dso_loader.cc:49] Successfully opened dynamic library libcudart.so.10.1\n",
            "Getting clean data...\n",
            "Clean data finished successful!\n",
            "Getting test data...\n",
            "Test data finished successful!\n",
            "Loading model...\n",
            "2020-12-21 16:07:49.304288: I tensorflow/compiler/jit/xla_cpu_device.cc:41] Not creating XLA devices, tf_xla_enable_xla_devices not set\n",
            "2020-12-21 16:07:49.305445: I tensorflow/stream_executor/platform/default/dso_loader.cc:49] Successfully opened dynamic library libcuda.so.1\n",
            "2020-12-21 16:07:49.330234: I tensorflow/stream_executor/cuda/cuda_gpu_executor.cc:941] successful NUMA node read from SysFS had negative value (-1), but there must be at least one NUMA node, so returning NUMA node zero\n",
            "2020-12-21 16:07:49.330888: I tensorflow/core/common_runtime/gpu/gpu_device.cc:1720] Found device 0 with properties: \n",
            "pciBusID: 0000:00:04.0 name: Tesla P4 computeCapability: 6.1\n",
            "coreClock: 1.1135GHz coreCount: 20 deviceMemorySize: 7.43GiB deviceMemoryBandwidth: 178.99GiB/s\n",
            "2020-12-21 16:07:49.330934: I tensorflow/stream_executor/platform/default/dso_loader.cc:49] Successfully opened dynamic library libcudart.so.10.1\n",
            "2020-12-21 16:07:49.332668: I tensorflow/stream_executor/platform/default/dso_loader.cc:49] Successfully opened dynamic library libcublas.so.10\n",
            "2020-12-21 16:07:49.332757: I tensorflow/stream_executor/platform/default/dso_loader.cc:49] Successfully opened dynamic library libcublasLt.so.10\n",
            "2020-12-21 16:07:49.334472: I tensorflow/stream_executor/platform/default/dso_loader.cc:49] Successfully opened dynamic library libcufft.so.10\n",
            "2020-12-21 16:07:49.334924: I tensorflow/stream_executor/platform/default/dso_loader.cc:49] Successfully opened dynamic library libcurand.so.10\n",
            "2020-12-21 16:07:49.336595: I tensorflow/stream_executor/platform/default/dso_loader.cc:49] Successfully opened dynamic library libcusolver.so.10\n",
            "2020-12-21 16:07:49.337523: I tensorflow/stream_executor/platform/default/dso_loader.cc:49] Successfully opened dynamic library libcusparse.so.10\n",
            "2020-12-21 16:07:49.340681: I tensorflow/stream_executor/platform/default/dso_loader.cc:49] Successfully opened dynamic library libcudnn.so.7\n",
            "2020-12-21 16:07:49.340842: I tensorflow/stream_executor/cuda/cuda_gpu_executor.cc:941] successful NUMA node read from SysFS had negative value (-1), but there must be at least one NUMA node, so returning NUMA node zero\n",
            "2020-12-21 16:07:49.341569: I tensorflow/stream_executor/cuda/cuda_gpu_executor.cc:941] successful NUMA node read from SysFS had negative value (-1), but there must be at least one NUMA node, so returning NUMA node zero\n",
            "2020-12-21 16:07:49.342180: I tensorflow/core/common_runtime/gpu/gpu_device.cc:1862] Adding visible gpu devices: 0\n",
            "2020-12-21 16:07:49.342683: I tensorflow/compiler/jit/xla_gpu_device.cc:99] Not creating XLA devices, tf_xla_enable_xla_devices not set\n",
            "2020-12-21 16:07:49.342818: I tensorflow/stream_executor/cuda/cuda_gpu_executor.cc:941] successful NUMA node read from SysFS had negative value (-1), but there must be at least one NUMA node, so returning NUMA node zero\n",
            "2020-12-21 16:07:49.343442: I tensorflow/core/common_runtime/gpu/gpu_device.cc:1720] Found device 0 with properties: \n",
            "pciBusID: 0000:00:04.0 name: Tesla P4 computeCapability: 6.1\n",
            "coreClock: 1.1135GHz coreCount: 20 deviceMemorySize: 7.43GiB deviceMemoryBandwidth: 178.99GiB/s\n",
            "2020-12-21 16:07:49.343476: I tensorflow/stream_executor/platform/default/dso_loader.cc:49] Successfully opened dynamic library libcudart.so.10.1\n",
            "2020-12-21 16:07:49.343519: I tensorflow/stream_executor/platform/default/dso_loader.cc:49] Successfully opened dynamic library libcublas.so.10\n",
            "2020-12-21 16:07:49.343540: I tensorflow/stream_executor/platform/default/dso_loader.cc:49] Successfully opened dynamic library libcublasLt.so.10\n",
            "2020-12-21 16:07:49.343566: I tensorflow/stream_executor/platform/default/dso_loader.cc:49] Successfully opened dynamic library libcufft.so.10\n",
            "2020-12-21 16:07:49.343592: I tensorflow/stream_executor/platform/default/dso_loader.cc:49] Successfully opened dynamic library libcurand.so.10\n",
            "2020-12-21 16:07:49.343612: I tensorflow/stream_executor/platform/default/dso_loader.cc:49] Successfully opened dynamic library libcusolver.so.10\n",
            "2020-12-21 16:07:49.343633: I tensorflow/stream_executor/platform/default/dso_loader.cc:49] Successfully opened dynamic library libcusparse.so.10\n",
            "2020-12-21 16:07:49.343656: I tensorflow/stream_executor/platform/default/dso_loader.cc:49] Successfully opened dynamic library libcudnn.so.7\n",
            "2020-12-21 16:07:49.343730: I tensorflow/stream_executor/cuda/cuda_gpu_executor.cc:941] successful NUMA node read from SysFS had negative value (-1), but there must be at least one NUMA node, so returning NUMA node zero\n",
            "2020-12-21 16:07:49.344346: I tensorflow/stream_executor/cuda/cuda_gpu_executor.cc:941] successful NUMA node read from SysFS had negative value (-1), but there must be at least one NUMA node, so returning NUMA node zero\n",
            "2020-12-21 16:07:49.344951: I tensorflow/core/common_runtime/gpu/gpu_device.cc:1862] Adding visible gpu devices: 0\n",
            "2020-12-21 16:07:49.344996: I tensorflow/stream_executor/platform/default/dso_loader.cc:49] Successfully opened dynamic library libcudart.so.10.1\n",
            "2020-12-21 16:07:50.004784: I tensorflow/core/common_runtime/gpu/gpu_device.cc:1261] Device interconnect StreamExecutor with strength 1 edge matrix:\n",
            "2020-12-21 16:07:50.004848: I tensorflow/core/common_runtime/gpu/gpu_device.cc:1267]      0 \n",
            "2020-12-21 16:07:50.004866: I tensorflow/core/common_runtime/gpu/gpu_device.cc:1280] 0:   N \n",
            "2020-12-21 16:07:50.005094: I tensorflow/stream_executor/cuda/cuda_gpu_executor.cc:941] successful NUMA node read from SysFS had negative value (-1), but there must be at least one NUMA node, so returning NUMA node zero\n",
            "2020-12-21 16:07:50.005698: I tensorflow/stream_executor/cuda/cuda_gpu_executor.cc:941] successful NUMA node read from SysFS had negative value (-1), but there must be at least one NUMA node, so returning NUMA node zero\n",
            "2020-12-21 16:07:50.006138: I tensorflow/stream_executor/cuda/cuda_gpu_executor.cc:941] successful NUMA node read from SysFS had negative value (-1), but there must be at least one NUMA node, so returning NUMA node zero\n",
            "2020-12-21 16:07:50.006515: W tensorflow/core/common_runtime/gpu/gpu_bfc_allocator.cc:39] Overriding allow_growth setting because the TF_FORCE_GPU_ALLOW_GROWTH environment variable is set. Original config value was 0.\n",
            "2020-12-21 16:07:50.006571: I tensorflow/core/common_runtime/gpu/gpu_device.cc:1406] Created TensorFlow device (/job:localhost/replica:0/task:0/device:GPU:0 with 6958 MB memory) -> physical GPU (device: 0, name: Tesla P4, pci bus id: 0000:00:04.0, compute capability: 6.1)\n",
            "Model loaded!\n",
            "Use computed threshold.\n",
            "Testing...\n",
            "Computing entropy...\n",
            "  0% 0/12830 [00:00<?, ?it/s]2020-12-21 16:07:50.179398: I tensorflow/stream_executor/platform/default/dso_loader.cc:49] Successfully opened dynamic library libcudnn.so.7\n",
            "2020-12-21 16:07:51.349457: I tensorflow/stream_executor/platform/default/dso_loader.cc:49] Successfully opened dynamic library libcublas.so.10\n",
            "100% 12830/12830 [15:20<00:00, 13.94it/s]\n",
            "Entropy calculation finished!\n",
            "Detecting backdoor image...\n",
            "100% 12830/12830 [00:00<00:00, 2289424.39it/s]\n",
            "11960 backdoor image(s) found...\n",
            "Start marking attacked predictions...\n",
            "2020-12-21 16:23:11.116884: W tensorflow/core/common_runtime/bfc_allocator.cc:314] Garbage collection: deallocate free memory regions (i.e., allocations) so that we can re-allocate a larger region to avoid OOM due to memory fragmentation. If you see this message frequently, you are running near the threshold of the available device memory and re-allocation may incur great performance overhead. You may try smaller batch sizes to observe the performance impact. Set TF_ENABLE_GPU_GARBAGE_COLLECTION=false if you'd like to disable this feature.\n",
            "2020-12-21 16:23:11.172125: W tensorflow/core/common_runtime/bfc_allocator.cc:248] Allocator (GPU_0_bfc) ran out of memory trying to allocate 2.20GiB with freed_by_count=0. The caller indicates that this is not a failure, but may mean that there could be performance gains if more memory were available.\n",
            "2020-12-21 16:23:11.172222: W tensorflow/core/kernels/gpu_utils.cc:49] Failed to allocate memory for convolution redzone checking; skipping this check. This is benign and only means that we won't check cudnn for out-of-bounds reads and writes. This message will only be printed once.\n",
            "2020-12-21 16:23:11.290637: W tensorflow/core/common_runtime/bfc_allocator.cc:248] Allocator (GPU_0_bfc) ran out of memory trying to allocate 2.41GiB with freed_by_count=0. The caller indicates that this is not a failure, but may mean that there could be performance gains if more memory were available.\n",
            "2020-12-21 16:23:11.656944: W tensorflow/core/common_runtime/bfc_allocator.cc:248] Allocator (GPU_0_bfc) ran out of memory trying to allocate 3.14GiB with freed_by_count=0. The caller indicates that this is not a failure, but may mean that there could be performance gains if more memory were available.\n",
            "2020-12-21 16:23:11.657044: W tensorflow/core/common_runtime/bfc_allocator.cc:248] Allocator (GPU_0_bfc) ran out of memory trying to allocate 3.11GiB with freed_by_count=0. The caller indicates that this is not a failure, but may mean that there could be performance gains if more memory were available.\n",
            "Finish!\n"
          ],
          "name": "stdout"
        }
      ]
    },
    {
      "cell_type": "code",
      "metadata": {
        "id": "0jHlCVrCF3Vr"
      },
      "source": [
        "import keras\r\n",
        "import sys\r\n",
        "import h5py\r\n",
        "import tqdm.notebook as tq\r\n",
        "import numpy as np\r\n",
        "import matplotlib.pyplot as plt\r\n",
        "import tensorflow as tf\r\n",
        "import scipy\r\n",
        "import scipy.stats"
      ],
      "execution_count": 2,
      "outputs": []
    },
    {
      "cell_type": "code",
      "metadata": {
        "id": "Swr9crxHFkQB"
      },
      "source": [
        "def data_loader(filepath):\r\n",
        "    data = h5py.File(filepath, 'r')\r\n",
        "    x_data = np.array(data['data'])\r\n",
        "    y_data = np.array(data['label'])\r\n",
        "    x_data = x_data.transpose((0,2,3,1))\r\n",
        "\r\n",
        "    return x_data, y_data\r\n",
        "\r\n",
        "def data_preprocess(x_data):\r\n",
        "    return x_data/255"
      ],
      "execution_count": 3,
      "outputs": []
    },
    {
      "cell_type": "markdown",
      "metadata": {
        "id": "xA87vf9ewaFZ"
      },
      "source": [
        "Paths"
      ]
    },
    {
      "cell_type": "code",
      "metadata": {
        "id": "A5O_iv-6Bmmr"
      },
      "source": [
        "clean_validation_data_filename = \"data/clean_validation_data.h5\"\r\n",
        "poisoned_data_filename = \"data/sunglasses_poisoned_data.h5\"\r\n",
        "clean_test_data_filename = \"data/clean_test_data.h5\"\r\n",
        "model_filename = \"models/sunglasses_bd_net.h5\"\r\n",
        "model_weights = \"models/sunglasses_bd_weights.h5\""
      ],
      "execution_count": 4,
      "outputs": []
    },
    {
      "cell_type": "markdown",
      "metadata": {
        "id": "GNuBqOsKwXGl"
      },
      "source": [
        "Load data set"
      ]
    },
    {
      "cell_type": "code",
      "metadata": {
        "id": "SguaWCvXFqOi",
        "colab": {
          "base_uri": "https://localhost:8080/",
          "height": 35
        },
        "outputId": "6dac7126-0ffd-4b69-f862-cc586fbeeb69"
      },
      "source": [
        "\"\"\"\r\n",
        "x_valid are clean validation data,\r\n",
        "y_valid are gt label\r\n",
        "\"\"\"\r\n",
        "x_valid, y_valid = data_loader(clean_validation_data_filename)\r\n",
        "x_valid = data_preprocess(x_valid)\r\n",
        "\r\n",
        "\"\"\"\r\n",
        "x_test_poison are poisoned test data,\r\n",
        "y_test_poison are poisoned label (target lable), which is 0\r\n",
        "e.g. y_test_clean[2] is 823, y_test_poison[2] is 0\r\n",
        "\"\"\"\r\n",
        "x_test_poison, y_test_poison = data_loader(poisoned_data_filename)\r\n",
        "x_test_poison = data_preprocess(x_test_poison)\r\n",
        "\r\n",
        "\"\"\"\r\n",
        "x_test_clean are clean test data,\r\n",
        "y_test_clean are gt label\r\n",
        "\"\"\"\r\n",
        "x_test_clean, y_test_clean = data_loader(clean_test_data_filename)\r\n",
        "x_test_clean = data_preprocess(x_test_clean)\r\n",
        "\r\n",
        "\"\"\"\r\n",
        "user test data mixed of clean and poisoned img\r\n",
        "\"\"\"\r\n",
        "# x_user, y_user = data_loader(\"user_test_data_file_path\")\r\n",
        "# x_user = data_preprocess(x_user)"
      ],
      "execution_count": 5,
      "outputs": [
        {
          "output_type": "execute_result",
          "data": {
            "application/vnd.google.colaboratory.intrinsic+json": {
              "type": "string"
            },
            "text/plain": [
              "'\\nuser test data mixed of clean and poisoned img\\n'"
            ]
          },
          "metadata": {
            "tags": []
          },
          "execution_count": 5
        }
      ]
    },
    {
      "cell_type": "markdown",
      "metadata": {
        "id": "tBRbY454Kvf6"
      },
      "source": [
        "Load model and weights"
      ]
    },
    {
      "cell_type": "code",
      "metadata": {
        "id": "y50Oro0ep42q"
      },
      "source": [
        "bd_model = keras.models.load_model(model_filename)\r\n",
        "bd_model.load_weights(model_weights)"
      ],
      "execution_count": 6,
      "outputs": []
    },
    {
      "cell_type": "markdown",
      "metadata": {
        "id": "4pZdLREiNXl9"
      },
      "source": [
        "# Superimpose and calculate entropy\r\n",
        "This section defines functions used to superimpose two images and calculate entropy. Functions defined in this section will be used in the next section."
      ]
    },
    {
      "cell_type": "code",
      "metadata": {
        "id": "N9Y_8rm7nP3q"
      },
      "source": [
        "def superImpose(overlay_img, origin_img, overlay_weight, back_weight):\r\n",
        "    \"\"\"\r\n",
        "    Used to superimpose two images of format `numpy.ndarray`.\r\n",
        "    The shape of the input should be exactly the same.\r\n",
        "    Usage:\r\n",
        "    >>> imgCombine = superImpose(x[0], x[1], 0.8, 0.8)\r\n",
        "    Arguments:\r\n",
        "        overlay_img: image used to perturb.\r\n",
        "        origin_img: image to be tested.\r\n",
        "        overlay_weight: weight of overlay_img.\r\n",
        "        back_weight: weight of origin_img.\r\n",
        "    Returns:\r\n",
        "        ret: the linearly combined image.\r\n",
        "    \"\"\"\r\n",
        "    ret = overlay_weight * overlay_img + back_weight * origin_img\r\n",
        "    ret = np.clip(ret, 0.0, 1.0)\r\n",
        "    return ret"
      ],
      "execution_count": 21,
      "outputs": []
    },
    {
      "cell_type": "code",
      "metadata": {
        "id": "z7LaquqsnYqG"
      },
      "source": [
        "def entropyCal(background, clean_set, model, overlay_weight=0.5, back_weight=0.9):\r\n",
        "    \"\"\"\r\n",
        "    Used to calculate mean entropy of `background` image \r\n",
        "    superimpose with each image in `clean_set`.\r\n",
        "    Usage:\r\n",
        "    >>> H = entropyCal(x[0], 10, x_valid, model, 0.8, 0.8)\r\n",
        "    Arguments:\r\n",
        "        background: origin input (the image to be tested)\r\n",
        "        clean_set: clean images to superimpose\r\n",
        "        model: model used to predict\r\n",
        "        overlay_weight: weight of overlay_img.\r\n",
        "        back_weight: weight of origin_img.\r\n",
        "    Returns:\r\n",
        "        H: mean entropy.\r\n",
        "    \"\"\"\r\n",
        "    x_perturb = []  # list of perturbed image\r\n",
        "    index_overlay = np.random.randint(0, clean_set.shape[0], size=10)\r\n",
        "    H = 0\r\n",
        "    for i in range(10):\r\n",
        "        x_perturb.append( superImpose(clean_set[index_overlay[i]], background, overlay_weight, back_weight) )\r\n",
        "        predictions = model(np.expand_dims(x_perturb[i], axis=0)).numpy()\r\n",
        "        Hn = 0.0\r\n",
        "        for p in predictions[0]:\r\n",
        "            if p==0.0:  # log2(0) will cause nan value in H\r\n",
        "                continue\r\n",
        "            Hn += -p * np.log2(p)\r\n",
        "        H += Hn\r\n",
        "    H /= 10\r\n",
        "    return H"
      ],
      "execution_count": 22,
      "outputs": []
    },
    {
      "cell_type": "markdown",
      "metadata": {
        "id": "IJj7VHALySKC"
      },
      "source": [
        "# Train Detection Boundary"
      ]
    },
    {
      "cell_type": "markdown",
      "metadata": {
        "id": "MTQ8sVv3y6E6"
      },
      "source": [
        "## Define functions needed"
      ]
    },
    {
      "cell_type": "code",
      "metadata": {
        "id": "IH4Np-wmQM2p"
      },
      "source": [
        "def getEntropyList(x_test, x_valid, model, overlay_weight=0.5, back_weight=0.9):\r\n",
        "    \"\"\"\r\n",
        "    Used to compute list of entropy of `x_test` superimpose with images in `x_valid`.\r\n",
        "    Usage:\r\n",
        "    >>> entropy = getEntropyList(n_test, n_sample, x_test_clean, x_valid, bd_model, overlay_weight, back_weight)\r\n",
        "    Arguments:\r\n",
        "        x_test: image to be tested\r\n",
        "        x_valid: clean validation data\r\n",
        "        model: model to be tested\r\n",
        "        overlay_weight: weight of overlay_img.\r\n",
        "        back_weight: weight of origin_img.\r\n",
        "    Returns:\r\n",
        "        entropy: list of entropy.\r\n",
        "    \"\"\"\r\n",
        "    entropy = []\r\n",
        "    n_test = len(x_test)\r\n",
        "    for j in tq.tqdm(range(n_test)):\r\n",
        "        x_background = x_test[j]\r\n",
        "        entropy.append(entropyCal(x_background, x_valid, model, overlay_weight, back_weight))\r\n",
        "    return entropy"
      ],
      "execution_count": 23,
      "outputs": []
    },
    {
      "cell_type": "code",
      "metadata": {
        "id": "bjfOmtk4e2o5"
      },
      "source": [
        "def computeThreshold(entropy_benigh, frr=0.07):\r\n",
        "    \"\"\"\r\n",
        "    Used to compute threshold.\r\n",
        "    Test image with entropy less than threshold is considered to be backdoor image,\r\n",
        "    otherwise benigh(clean) image.\r\n",
        "    Usage:\r\n",
        "    >>> threshold = computeThreshold(entropy_benigh, 0.05)\r\n",
        "    Arguments:\r\n",
        "        entropy_benigh: list of entropy of clean input superimpose with clean input\r\n",
        "        frr: preset False Reject Rate in entropy of clean img\r\n",
        "    Returns:\r\n",
        "        threshold: threshold computed.\r\n",
        "    \"\"\"\r\n",
        "    (mu, sigma) = scipy.stats.norm.fit(entropy_benigh)\r\n",
        "    print(f\"Clean image: Mean={mu}, Var={sigma}\")\r\n",
        "    \r\n",
        "    threshold = scipy.stats.norm.ppf(frr, loc = mu, scale = sigma)\r\n",
        "    print(f\"Computed threshold is {threshold}\")\r\n",
        "    return threshold"
      ],
      "execution_count": 24,
      "outputs": []
    },
    {
      "cell_type": "markdown",
      "metadata": {
        "id": "vIGrgIwWDqF_"
      },
      "source": [
        "## Calculate threshold & evaluate on given poison dataset"
      ]
    },
    {
      "cell_type": "code",
      "metadata": {
        "id": "_90FTfzZe9Tj"
      },
      "source": [
        "overlay_weight = 0.5\r\n",
        "back_weight = 0.9"
      ],
      "execution_count": 25,
      "outputs": []
    },
    {
      "cell_type": "code",
      "metadata": {
        "id": "GdogUWxnZ2SJ",
        "colab": {
          "base_uri": "https://localhost:8080/",
          "height": 99,
          "referenced_widgets": [
            "3be734ff370f4fdf87bdab3d3f971c55",
            "1bda7bafec924d1e81537abedbd3dbc8",
            "1ac92fdda2f7462cb2d1a0d83bd411f9",
            "c7f67fa06dd94b7ca30bea4e7212a149",
            "9585512daf804a9ebfbbce06db48160e",
            "9b07aac7ba8b4309a3a1f4a67bba006b",
            "1e2e67087a5546bdad0e103ec7f5a8fc",
            "e53941e0374d49939be64eb176e1d735"
          ]
        },
        "outputId": "9f6f2a26-25e3-4fd1-e5f5-5d5fd49a0a12"
      },
      "source": [
        "entropy_benigh = getEntropyList(x_valid, x_valid, bd_model)\r\n",
        "threshold = computeThreshold(entropy_benigh)"
      ],
      "execution_count": 26,
      "outputs": [
        {
          "output_type": "display_data",
          "data": {
            "application/vnd.jupyter.widget-view+json": {
              "model_id": "3be734ff370f4fdf87bdab3d3f971c55",
              "version_minor": 0,
              "version_major": 2
            },
            "text/plain": [
              "HBox(children=(FloatProgress(value=0.0, max=11547.0), HTML(value='')))"
            ]
          },
          "metadata": {
            "tags": []
          }
        },
        {
          "output_type": "stream",
          "text": [
            "\n",
            "Clean image: Mean=0.5797917308969354, Var=0.31299767755266367\n",
            "Computed threshold is 0.11787256652379735\n"
          ],
          "name": "stdout"
        }
      ]
    },
    {
      "cell_type": "code",
      "metadata": {
        "id": "F9hIwCOOGGwK",
        "colab": {
          "base_uri": "https://localhost:8080/",
          "height": 82,
          "referenced_widgets": [
            "0708f33257544e5583efb69a901ed9f0",
            "e8c8a55e928347058ef4cb1e068c0a55",
            "8f0a7ba95712469ab85ee1a54f3e4f1b",
            "207f4270fc3148798a62becc8ed0c5c1",
            "c6a9bea2fc4d40d59484b52dad97b858",
            "8d4800cc1a1f480b941f6069722b116d",
            "25895ea637504d6393228e08a20d44e2",
            "7f02a7a1a64b490c8e77c140962f7170"
          ]
        },
        "outputId": "61de2826-0aaa-4bd3-f57a-6af0efe77dad"
      },
      "source": [
        "entropy_trojan = getEntropyList(x_test_poison, x_valid, bd_model)\r\n",
        "FAR = sum(i > threshold for i in entropy_trojan)\r\n",
        "print(FAR/x_test_poison.shape[0])"
      ],
      "execution_count": 27,
      "outputs": [
        {
          "output_type": "display_data",
          "data": {
            "application/vnd.jupyter.widget-view+json": {
              "model_id": "0708f33257544e5583efb69a901ed9f0",
              "version_minor": 0,
              "version_major": 2
            },
            "text/plain": [
              "HBox(children=(FloatProgress(value=0.0, max=12830.0), HTML(value='')))"
            ]
          },
          "metadata": {
            "tags": []
          }
        },
        {
          "output_type": "stream",
          "text": [
            "\n",
            "0.06773187840997662\n"
          ],
          "name": "stdout"
        }
      ]
    },
    {
      "cell_type": "code",
      "metadata": {
        "id": "bRJDHI4nGMcd",
        "colab": {
          "base_uri": "https://localhost:8080/"
        },
        "outputId": "6b76d037-8862-41b2-8298-e81844fb6713"
      },
      "source": [
        "min_benign_entropy = min(entropy_benigh)\r\n",
        "max_trojan_entropy = max(entropy_trojan)\r\n",
        "\r\n",
        "print(min_benign_entropy)# check min entropy of clean inputs\r\n",
        "print(max_trojan_entropy)# check max entropy of trojaned inputs"
      ],
      "execution_count": 28,
      "outputs": [
        {
          "output_type": "stream",
          "text": [
            "2.7963723439776043e-11\n",
            "0.8553319770384402\n"
          ],
          "name": "stdout"
        }
      ]
    },
    {
      "cell_type": "markdown",
      "metadata": {
        "id": "37PUPIciCMce"
      },
      "source": [
        "Minimum value of `entropy_benigh` is smaller than the max value of `entropy_trojan`, indicating that there is intersection between the distribution of the entropy of benigh and trojan situations."
      ]
    },
    {
      "cell_type": "markdown",
      "metadata": {
        "id": "El87CNHXnTm8"
      },
      "source": [
        "# Custom input & Test"
      ]
    },
    {
      "cell_type": "code",
      "metadata": {
        "id": "tg5z0MR0mbJj"
      },
      "source": [
        "cust_x_test = np.append(x_test_clean[:100], x_test_poison[:100], axis=0)\r\n",
        "cust_y_test = np.append(y_test_clean[:100], y_test_poison[:100], axis=0)"
      ],
      "execution_count": 29,
      "outputs": []
    },
    {
      "cell_type": "code",
      "metadata": {
        "colab": {
          "base_uri": "https://localhost:8080/"
        },
        "id": "wV5Aq_yRm30l",
        "outputId": "f11e5cee-2419-4af8-fef0-bf580a75d9d3"
      },
      "source": [
        "cust_x_test.shape"
      ],
      "execution_count": 30,
      "outputs": [
        {
          "output_type": "execute_result",
          "data": {
            "text/plain": [
              "(200, 55, 47, 3)"
            ]
          },
          "metadata": {
            "tags": []
          },
          "execution_count": 30
        }
      ]
    },
    {
      "cell_type": "code",
      "metadata": {
        "id": "y0D9ceBpnZmA"
      },
      "source": [
        "entropy = []\r\n",
        "for img in cust_x_test:\r\n",
        "    entropy.append(entropyCal(img, x_valid, bd_model))"
      ],
      "execution_count": 31,
      "outputs": []
    },
    {
      "cell_type": "code",
      "metadata": {
        "colab": {
          "base_uri": "https://localhost:8080/"
        },
        "id": "H9UikIkmoX1_",
        "outputId": "04699c4d-842f-45c3-963c-1420cdd000ee"
      },
      "source": [
        "sum(i < threshold for i in entropy)"
      ],
      "execution_count": 32,
      "outputs": [
        {
          "output_type": "execute_result",
          "data": {
            "text/plain": [
              "96"
            ]
          },
          "metadata": {
            "tags": []
          },
          "execution_count": 32
        }
      ]
    },
    {
      "cell_type": "code",
      "metadata": {
        "colab": {
          "base_uri": "https://localhost:8080/"
        },
        "id": "xDLH8DZvo4eB",
        "outputId": "6985589a-47c0-491e-a792-3e8dd6e1727d"
      },
      "source": [
        "frr = 0\r\n",
        "far = 0\r\n",
        "bad_idx = []\r\n",
        "for i in range(len(entropy)):\r\n",
        "    if entropy[i]<threshold:\r\n",
        "        bad_idx.append(i)\r\n",
        "    if i<100 and entropy[i]<threshold:\r\n",
        "        frr += 1\r\n",
        "    if i>=100 and entropy[i]>=threshold:\r\n",
        "        far += 1\r\n",
        "frr /= 100\r\n",
        "far /= 100\r\n",
        "print(f\"FRR is {frr}, FAR is {far}\")"
      ],
      "execution_count": 33,
      "outputs": [
        {
          "output_type": "stream",
          "text": [
            "FRR is 0.03, FAR is 0.07\n"
          ],
          "name": "stdout"
        }
      ]
    },
    {
      "cell_type": "code",
      "metadata": {
        "id": "Rp_vGaF4sI-O"
      },
      "source": [
        "prob = bd_model(cust_x_test).numpy()\r\n",
        "result = []\r\n",
        "for p in prob:\r\n",
        "    result.append(np.argmax(p))\r\n",
        "bad_class = prob[0].shape[0]\r\n",
        "for idx in bad_idx:\r\n",
        "    result[idx] = bad_class\r\n",
        "# change to 1-index\r\n",
        "result = np.array(result) + 1"
      ],
      "execution_count": 34,
      "outputs": []
    },
    {
      "cell_type": "code",
      "metadata": {
        "colab": {
          "base_uri": "https://localhost:8080/"
        },
        "id": "IOvicO6ssrIB",
        "outputId": "756673c7-6a2e-4e30-81da-553052da4a56"
      },
      "source": [
        "result[10:20]"
      ],
      "execution_count": 38,
      "outputs": [
        {
          "output_type": "execute_result",
          "data": {
            "text/plain": [
              "array([  50,  109, 1036,   87,  538,  167,  758,  173,  262,  394])"
            ]
          },
          "metadata": {
            "tags": []
          },
          "execution_count": 38
        }
      ]
    },
    {
      "cell_type": "markdown",
      "metadata": {
        "id": "ARgT2x5pv_5S"
      },
      "source": [
        "# Test"
      ]
    },
    {
      "cell_type": "code",
      "metadata": {
        "id": "3iMjoxGdfebj"
      },
      "source": [
        "def test(model, x_test, x_valid_clean, threshold):\r\n",
        "    entropy = []\r\n",
        "    for img in x_test:\r\n",
        "        entropy.append(entropyCal(img, x_valid_clean, model))\r\n",
        "    print(\"Entropy calculation finished...\")\r\n",
        "    \r\n",
        "    bad_idx = []\r\n",
        "    for i in range(len(entropy)):\r\n",
        "        if entropy[i]<threshold:\r\n",
        "            bad_idx.append(i)\r\n",
        "    print(f\"{len(bad_idx)} backdoored image(s) found...\")\r\n",
        "\r\n",
        "    print(\"Start marking attacked predictions...\")\r\n",
        "    prob = model(x_test).numpy()\r\n",
        "    result = []\r\n",
        "    for p in prob:\r\n",
        "        result.append(np.argmax(p))\r\n",
        "    bad_class = prob[0].shape[0]\r\n",
        "    for idx in bad_idx:\r\n",
        "        result[idx] = bad_class\r\n",
        "    print(\"Finish!\")\r\n",
        "    return np.array(result) + 1"
      ],
      "execution_count": 36,
      "outputs": []
    },
    {
      "cell_type": "code",
      "metadata": {
        "colab": {
          "base_uri": "https://localhost:8080/"
        },
        "id": "zp7i_Nc6jFgZ",
        "outputId": "dc6f6b6f-6ba4-447d-f422-39c64296b597"
      },
      "source": [
        "# result = test(bd_model, x_user, x_valid, threshold)\r\n",
        "result = test(bd_model, cust_x_test, x_valid, threshold)"
      ],
      "execution_count": 37,
      "outputs": [
        {
          "output_type": "stream",
          "text": [
            "Entropy calculation finished...\n",
            "98 backdoored image(s) found...\n",
            "Start marking attacked predictions...\n",
            "Finish!\n"
          ],
          "name": "stdout"
        }
      ]
    },
    {
      "cell_type": "markdown",
      "metadata": {
        "id": "SwJpvoGBcSy0"
      },
      "source": [
        "class number 1284 is backdoor class."
      ]
    },
    {
      "cell_type": "markdown",
      "metadata": {
        "id": "wY0se98WBH5E"
      },
      "source": [
        "# References\r\n",
        "1. [CSAW HackML 2020](https://wp.nyu.edu/csaw_hackml_2020/instructions/)\r\n",
        "2. [CSAW HackML 2020 GitHub Repo](https://github.com/csaw-hackml/CSAW-HackML-2020)\r\n",
        "3. Gao, Yansong, Change Xu, Derui Wang, Shiping Chen, Damith C. Ranasinghe, and Surya Nepal. “Strip: A defence against trojan attacks on deep neural networks.” In Proceedings of the 35th Annual Computer Security Applications Conference, pp. 113-125. 2019."
      ]
    }
  ]
}